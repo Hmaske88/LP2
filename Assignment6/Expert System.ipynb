{
 "cells": [
  {
   "cell_type": "code",
   "execution_count": 1,
   "id": "f50b7d5f",
   "metadata": {},
   "outputs": [],
   "source": [
    "import numpy as np\n",
    "import pandas as pd\n",
    "import matplotlib.pyplot as plt\n",
    "import seaborn as sns\n",
    "from sklearn.model_selection import train_test_split\n",
    "from sklearn.naive_bayes import GaussianNB\n",
    "from sklearn.metrics import confusion_matrix,ConfusionMatrixDisplay,classification_report,accuracy_score, precision_score, recall_score, f1_score\n",
    "from sklearn.preprocessing import LabelEncoder\n",
    "from csv import writer"
   ]
  },
  {
   "cell_type": "code",
   "execution_count": 2,
   "id": "b325e787",
   "metadata": {},
   "outputs": [],
   "source": [
    "df=pd.read_csv(\"RestoInfo2.csv\")"
   ]
  },
  {
   "cell_type": "code",
   "execution_count": 3,
   "id": "e3a0bdef",
   "metadata": {},
   "outputs": [
    {
     "data": {
      "text/html": [
       "<div>\n",
       "<style scoped>\n",
       "    .dataframe tbody tr th:only-of-type {\n",
       "        vertical-align: middle;\n",
       "    }\n",
       "\n",
       "    .dataframe tbody tr th {\n",
       "        vertical-align: top;\n",
       "    }\n",
       "\n",
       "    .dataframe thead th {\n",
       "        text-align: right;\n",
       "    }\n",
       "</style>\n",
       "<table border=\"1\" class=\"dataframe\">\n",
       "  <thead>\n",
       "    <tr style=\"text-align: right;\">\n",
       "      <th></th>\n",
       "      <th>area</th>\n",
       "      <th>rent</th>\n",
       "      <th>stars</th>\n",
       "      <th>food</th>\n",
       "      <th>food type</th>\n",
       "      <th>discount</th>\n",
       "      <th>restaurant</th>\n",
       "    </tr>\n",
       "  </thead>\n",
       "  <tbody>\n",
       "    <tr>\n",
       "      <th>0</th>\n",
       "      <td>pune</td>\n",
       "      <td>4000</td>\n",
       "      <td>3</td>\n",
       "      <td>expensive</td>\n",
       "      <td>veg</td>\n",
       "      <td>yes</td>\n",
       "      <td>A</td>\n",
       "    </tr>\n",
       "    <tr>\n",
       "      <th>1</th>\n",
       "      <td>pune</td>\n",
       "      <td>4000</td>\n",
       "      <td>3</td>\n",
       "      <td>expensive</td>\n",
       "      <td>non-veg</td>\n",
       "      <td>yes</td>\n",
       "      <td>A</td>\n",
       "    </tr>\n",
       "    <tr>\n",
       "      <th>2</th>\n",
       "      <td>pune</td>\n",
       "      <td>4000</td>\n",
       "      <td>3</td>\n",
       "      <td>expensive</td>\n",
       "      <td>veg</td>\n",
       "      <td>no</td>\n",
       "      <td>A</td>\n",
       "    </tr>\n",
       "    <tr>\n",
       "      <th>3</th>\n",
       "      <td>pune</td>\n",
       "      <td>5000</td>\n",
       "      <td>3</td>\n",
       "      <td>expensive</td>\n",
       "      <td>veg</td>\n",
       "      <td>yes</td>\n",
       "      <td>A</td>\n",
       "    </tr>\n",
       "    <tr>\n",
       "      <th>4</th>\n",
       "      <td>pune</td>\n",
       "      <td>4500</td>\n",
       "      <td>3</td>\n",
       "      <td>expensive</td>\n",
       "      <td>non-veg</td>\n",
       "      <td>yes</td>\n",
       "      <td>A</td>\n",
       "    </tr>\n",
       "    <tr>\n",
       "      <th>...</th>\n",
       "      <td>...</td>\n",
       "      <td>...</td>\n",
       "      <td>...</td>\n",
       "      <td>...</td>\n",
       "      <td>...</td>\n",
       "      <td>...</td>\n",
       "      <td>...</td>\n",
       "    </tr>\n",
       "    <tr>\n",
       "      <th>57</th>\n",
       "      <td>pune</td>\n",
       "      <td>4000</td>\n",
       "      <td>3</td>\n",
       "      <td>low</td>\n",
       "      <td>non-veg</td>\n",
       "      <td>yes</td>\n",
       "      <td>A</td>\n",
       "    </tr>\n",
       "    <tr>\n",
       "      <th>58</th>\n",
       "      <td>pune</td>\n",
       "      <td>500</td>\n",
       "      <td>1</td>\n",
       "      <td>expensive</td>\n",
       "      <td>veg</td>\n",
       "      <td>no</td>\n",
       "      <td>H</td>\n",
       "    </tr>\n",
       "    <tr>\n",
       "      <th>59</th>\n",
       "      <td>pune</td>\n",
       "      <td>4000</td>\n",
       "      <td>3</td>\n",
       "      <td>expensive</td>\n",
       "      <td>veg</td>\n",
       "      <td>yes</td>\n",
       "      <td>A</td>\n",
       "    </tr>\n",
       "    <tr>\n",
       "      <th>60</th>\n",
       "      <td>pune</td>\n",
       "      <td>1000</td>\n",
       "      <td>2</td>\n",
       "      <td>low</td>\n",
       "      <td>veg</td>\n",
       "      <td>yes</td>\n",
       "      <td>B</td>\n",
       "    </tr>\n",
       "    <tr>\n",
       "      <th>61</th>\n",
       "      <td>mumbai</td>\n",
       "      <td>500</td>\n",
       "      <td>1</td>\n",
       "      <td>low</td>\n",
       "      <td>veg</td>\n",
       "      <td>no</td>\n",
       "      <td>F</td>\n",
       "    </tr>\n",
       "  </tbody>\n",
       "</table>\n",
       "<p>62 rows × 7 columns</p>\n",
       "</div>"
      ],
      "text/plain": [
       "      area  rent  stars       food food type discount restaurant\n",
       "0     pune  4000      3  expensive       veg      yes          A\n",
       "1     pune  4000      3  expensive   non-veg      yes          A\n",
       "2     pune  4000      3  expensive       veg       no          A\n",
       "3     pune  5000      3  expensive       veg      yes          A\n",
       "4     pune  4500      3  expensive   non-veg      yes          A\n",
       "..     ...   ...    ...        ...       ...      ...        ...\n",
       "57    pune  4000      3        low   non-veg      yes          A\n",
       "58    pune   500      1  expensive       veg       no          H\n",
       "59    pune  4000      3  expensive       veg      yes          A\n",
       "60    pune  1000      2        low       veg      yes          B\n",
       "61  mumbai   500      1        low       veg       no          F\n",
       "\n",
       "[62 rows x 7 columns]"
      ]
     },
     "execution_count": 3,
     "metadata": {},
     "output_type": "execute_result"
    }
   ],
   "source": [
    "df"
   ]
  },
  {
   "cell_type": "code",
   "execution_count": 4,
   "id": "98e32c7c",
   "metadata": {},
   "outputs": [],
   "source": [
    "d={0:'A',1:'B',2:'C',3:'D',4:'E',5:'F',6:'G',7:'H',8:'I'}"
   ]
  },
  {
   "cell_type": "code",
   "execution_count": 5,
   "id": "aa6f8931",
   "metadata": {},
   "outputs": [],
   "source": [
    "df2=df.copy()"
   ]
  },
  {
   "cell_type": "code",
   "execution_count": 6,
   "id": "438c4d17",
   "metadata": {},
   "outputs": [
    {
     "data": {
      "text/html": [
       "<div>\n",
       "<style scoped>\n",
       "    .dataframe tbody tr th:only-of-type {\n",
       "        vertical-align: middle;\n",
       "    }\n",
       "\n",
       "    .dataframe tbody tr th {\n",
       "        vertical-align: top;\n",
       "    }\n",
       "\n",
       "    .dataframe thead th {\n",
       "        text-align: right;\n",
       "    }\n",
       "</style>\n",
       "<table border=\"1\" class=\"dataframe\">\n",
       "  <thead>\n",
       "    <tr style=\"text-align: right;\">\n",
       "      <th></th>\n",
       "      <th>area</th>\n",
       "      <th>rent</th>\n",
       "      <th>stars</th>\n",
       "      <th>food</th>\n",
       "      <th>food type</th>\n",
       "      <th>discount</th>\n",
       "      <th>restaurant</th>\n",
       "    </tr>\n",
       "  </thead>\n",
       "  <tbody>\n",
       "    <tr>\n",
       "      <th>0</th>\n",
       "      <td>1</td>\n",
       "      <td>4000</td>\n",
       "      <td>3</td>\n",
       "      <td>1</td>\n",
       "      <td>1</td>\n",
       "      <td>1</td>\n",
       "      <td>0</td>\n",
       "    </tr>\n",
       "    <tr>\n",
       "      <th>1</th>\n",
       "      <td>1</td>\n",
       "      <td>4000</td>\n",
       "      <td>3</td>\n",
       "      <td>1</td>\n",
       "      <td>0</td>\n",
       "      <td>1</td>\n",
       "      <td>0</td>\n",
       "    </tr>\n",
       "    <tr>\n",
       "      <th>2</th>\n",
       "      <td>1</td>\n",
       "      <td>4000</td>\n",
       "      <td>3</td>\n",
       "      <td>1</td>\n",
       "      <td>1</td>\n",
       "      <td>0</td>\n",
       "      <td>0</td>\n",
       "    </tr>\n",
       "    <tr>\n",
       "      <th>3</th>\n",
       "      <td>1</td>\n",
       "      <td>5000</td>\n",
       "      <td>3</td>\n",
       "      <td>1</td>\n",
       "      <td>1</td>\n",
       "      <td>1</td>\n",
       "      <td>0</td>\n",
       "    </tr>\n",
       "    <tr>\n",
       "      <th>4</th>\n",
       "      <td>1</td>\n",
       "      <td>4500</td>\n",
       "      <td>3</td>\n",
       "      <td>1</td>\n",
       "      <td>0</td>\n",
       "      <td>1</td>\n",
       "      <td>0</td>\n",
       "    </tr>\n",
       "  </tbody>\n",
       "</table>\n",
       "</div>"
      ],
      "text/plain": [
       "   area  rent  stars  food  food type  discount  restaurant\n",
       "0     1  4000      3     1          1         1           0\n",
       "1     1  4000      3     1          0         1           0\n",
       "2     1  4000      3     1          1         0           0\n",
       "3     1  5000      3     1          1         1           0\n",
       "4     1  4500      3     1          0         1           0"
      ]
     },
     "execution_count": 6,
     "metadata": {},
     "output_type": "execute_result"
    }
   ],
   "source": [
    "le=LabelEncoder()\n",
    "df2['area']=le.fit_transform(df2['area'])\n",
    "df2['food']=le.fit_transform(df2['food'])\n",
    "df2['food type']=le.fit_transform(df2['food type'])\n",
    "df2['discount']=le.fit_transform(df2['discount'])\n",
    "df2['restaurant']=le.fit_transform(df2['restaurant'])\n",
    "df2.head()"
   ]
  },
  {
   "cell_type": "code",
   "execution_count": 7,
   "id": "93e97d47",
   "metadata": {},
   "outputs": [],
   "source": [
    "x=df2[['area','rent','stars','food','food type','discount']]\n",
    "y=df2['restaurant']"
   ]
  },
  {
   "cell_type": "code",
   "execution_count": 8,
   "id": "325a3826",
   "metadata": {},
   "outputs": [],
   "source": [
    "encode = LabelEncoder()\n",
    "y = encode.fit_transform(y)"
   ]
  },
  {
   "cell_type": "code",
   "execution_count": 9,
   "id": "8ccf0518",
   "metadata": {},
   "outputs": [],
   "source": [
    "x_train,x_test,y_train,y_test = train_test_split(x,y,test_size = 0.02,random_state = 0)"
   ]
  },
  {
   "cell_type": "code",
   "execution_count": 10,
   "id": "297ad60e",
   "metadata": {},
   "outputs": [
    {
     "name": "stdout",
     "output_type": "stream",
     "text": [
      "    area  rent  stars  food  food type  discount\n",
      "30     1  9500      5     1          1         1\n",
      "32     0   500      1     2          1         0\n"
     ]
    }
   ],
   "source": [
    "print(x_test)"
   ]
  },
  {
   "cell_type": "code",
   "execution_count": 11,
   "id": "d9154de1",
   "metadata": {},
   "outputs": [],
   "source": [
    "naive_bayes = GaussianNB()\n",
    "naive_bayes.fit(x_train,y_train)\n",
    "pred = naive_bayes.predict(x_test)"
   ]
  },
  {
   "cell_type": "code",
   "execution_count": 12,
   "id": "3c4c3c0e",
   "metadata": {},
   "outputs": [
    {
     "data": {
      "text/plain": [
       "array([4, 5], dtype=int64)"
      ]
     },
     "execution_count": 12,
     "metadata": {},
     "output_type": "execute_result"
    }
   ],
   "source": [
    "pred"
   ]
  },
  {
   "cell_type": "code",
   "execution_count": 13,
   "id": "94eb909f",
   "metadata": {},
   "outputs": [],
   "source": [
    "def add():\n",
    "    area=input(\"pune/mumbai :\")\n",
    "    rent=int(input(\"Expected Room Rent :\"))\n",
    "    stars=int(input('Stars (1/2/3/4/5) :'))\n",
    "    food=input(\"Food (low/average/expensive) :\")\n",
    "    food_type=input(\"Food Type (veg/non-veg) :\")\n",
    "    discount=input(\"Discount (yes/no) :\")\n",
    "    List=[area,rent,stars,food,food_type,discount]\n",
    "    with open('input.csv', 'a') as f_object:\n",
    "        writer_object = writer(f_object)\n",
    "        writer_object.writerow(List)\n",
    "        f_object.close()"
   ]
  },
  {
   "cell_type": "code",
   "execution_count": 14,
   "id": "d011ec29",
   "metadata": {},
   "outputs": [],
   "source": [
    "# def predict():\n",
    "#     df=pd.read_csv(\"RestoInfo.csv\")\n",
    "#     print(df.tail())\n",
    "#     df2=df.copy()\n",
    "#     le=LabelEncoder()\n",
    "#     df2['area']=le.fit_transform(df2['area'])\n",
    "#     df2['food']=le.fit_transform(df2['food'])\n",
    "#     df2['food type']=le.fit_transform(df2['food type'])\n",
    "#     df2['discount']=le.fit_transform(df2['discount'])\n",
    "#     df2['restaurant']=le.fit_transform(df2['restaurant'])\n",
    "#     x=df2[['area','rent','stars','food','food type','discount']]\n",
    "#     y=df2['restaurant']\n",
    "#     encode = LabelEncoder()\n",
    "#     y = encode.fit_transform(y)\n",
    "#     x_train,x_test,y_train,y_test = train_test_split(x,y,test_size = 0.05,random_state = 0)\n",
    "#     naive_bayes = GaussianNB()\n",
    "#     naive_bayes.fit(x_train,y_train)\n",
    "#     pred = naive_bayes.predict(x_test)\n",
    "#     print(pred)\n",
    "#     print(d[pred[-1]])\n",
    "#     print(df2.tail())\n",
    "#     df = df.iloc[:-1]\n",
    "#     df.to_csv('RestoInfo.csv', index=False)"
   ]
  },
  {
   "cell_type": "code",
   "execution_count": 15,
   "id": "da25e65a",
   "metadata": {},
   "outputs": [],
   "source": [
    "def predict():\n",
    "    new_data=pd.read_csv(\"input.csv\")\n",
    "    new2=new_data.copy()\n",
    "    le=LabelEncoder()\n",
    "    new2['area']=le.fit_transform(new2['area'])\n",
    "    new2['food']=le.fit_transform(new2['food'])\n",
    "    new2['food type']=le.fit_transform(new2['food type'])\n",
    "    new2['discount']=le.fit_transform(new2['discount'])\n",
    "    predictions = naive_bayes.predict(new2)\n",
    "    print(d[predictions[0]])\n",
    "    new_data = new_data.iloc[:-1]\n",
    "    new_data.to_csv('input.csv', index=False)"
   ]
  },
  {
   "cell_type": "code",
   "execution_count": 16,
   "id": "b03dac7f",
   "metadata": {},
   "outputs": [
    {
     "name": "stdout",
     "output_type": "stream",
     "text": [
      "pune/mumbai :pune\n",
      "Expected Room Rent :10000\n",
      "Stars (1/2/3/4/5) :5\n",
      "Food (low/average/expensive) :expensive\n",
      "Food Type (veg/non-veg) :veg\n",
      "Discount (yes/no) :yes\n",
      "E\n"
     ]
    }
   ],
   "source": [
    "add()\n",
    "predict()"
   ]
  },
  {
   "cell_type": "code",
   "execution_count": null,
   "id": "59d26bdd",
   "metadata": {},
   "outputs": [],
   "source": []
  }
 ],
 "metadata": {
  "kernelspec": {
   "display_name": "Python 3 (ipykernel)",
   "language": "python",
   "name": "python3"
  },
  "language_info": {
   "codemirror_mode": {
    "name": "ipython",
    "version": 3
   },
   "file_extension": ".py",
   "mimetype": "text/x-python",
   "name": "python",
   "nbconvert_exporter": "python",
   "pygments_lexer": "ipython3",
   "version": "3.9.13"
  }
 },
 "nbformat": 4,
 "nbformat_minor": 5
}
